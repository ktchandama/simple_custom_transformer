{
  "nbformat": 4,
  "nbformat_minor": 0,
  "metadata": {
    "colab": {
      "name": "Custom_transformer_with_sklearn.ipynb",
      "provenance": [],
      "include_colab_link": true
    },
    "kernelspec": {
      "name": "python3",
      "display_name": "Python 3"
    },
    "language_info": {
      "name": "python"
    }
  },
  "cells": [
    {
      "cell_type": "markdown",
      "metadata": {
        "id": "view-in-github",
        "colab_type": "text"
      },
      "source": [
        "<a href=\"https://colab.research.google.com/github/ktchandama/simple_custom_transformer/blob/main/Custom_transformer_with_sklearn.ipynb\" target=\"_parent\"><img src=\"https://colab.research.google.com/assets/colab-badge.svg\" alt=\"Open In Colab\"/></a>"
      ]
    },
    {
      "cell_type": "markdown",
      "source": [
        "**En:** We'll be using the California housing data in this notebook. We're going to build a transformer from scratch in sklearn. Instaed of using for example StandardScaler, MinMaxScaler or other transformer, we are going to build one from scratch."
      ],
      "metadata": {
        "id": "VsfpUgJgv7UN"
      }
    },
    {
      "cell_type": "markdown",
      "source": [
        "Let's start by importing our dataset from sklearn.datasets"
      ],
      "metadata": {
        "id": "if9Vs55CxvLf"
      }
    },
    {
      "cell_type": "code",
      "source": [
        "from sklearn.datasets import fetch_california_housing\n",
        "data = fetch_california_housing()\n",
        "\n",
        "X = data['data']\n",
        "y = data['target']\n",
        "\n",
        "#Summary of our dataset\n",
        "data['DESCR']"
      ],
      "metadata": {
        "colab": {
          "base_uri": "https://localhost:8080/",
          "height": 140
        },
        "id": "cRk5btq4xnPt",
        "outputId": "5696ffd1-9557-4ed2-9197-fbb36342e818"
      },
      "execution_count": 1,
      "outputs": [
        {
          "output_type": "execute_result",
          "data": {
            "text/plain": [
              "'.. _california_housing_dataset:\\n\\nCalifornia Housing dataset\\n--------------------------\\n\\n**Data Set Characteristics:**\\n\\n    :Number of Instances: 20640\\n\\n    :Number of Attributes: 8 numeric, predictive attributes and the target\\n\\n    :Attribute Information:\\n        - MedInc        median income in block group\\n        - HouseAge      median house age in block group\\n        - AveRooms      average number of rooms per household\\n        - AveBedrms     average number of bedrooms per household\\n        - Population    block group population\\n        - AveOccup      average number of household members\\n        - Latitude      block group latitude\\n        - Longitude     block group longitude\\n\\n    :Missing Attribute Values: None\\n\\nThis dataset was obtained from the StatLib repository.\\nhttps://www.dcc.fc.up.pt/~ltorgo/Regression/cal_housing.html\\n\\nThe target variable is the median house value for California districts,\\nexpressed in hundreds of thousands of dollars ($100,000).\\n\\nThis dataset was derived from the 1990 U.S. census, using one row per census\\nblock group. A block group is the smallest geographical unit for which the U.S.\\nCensus Bureau publishes sample data (a block group typically has a population\\nof 600 to 3,000 people).\\n\\nAn household is a group of people residing within a home. Since the average\\nnumber of rooms and bedrooms in this dataset are provided per household, these\\ncolumns may take surpinsingly large values for block groups with few households\\nand many empty houses, such as vacation resorts.\\n\\nIt can be downloaded/loaded using the\\n:func:`sklearn.datasets.fetch_california_housing` function.\\n\\n.. topic:: References\\n\\n    - Pace, R. Kelley and Ronald Barry, Sparse Spatial Autoregressions,\\n      Statistics and Probability Letters, 33 (1997) 291-297\\n'"
            ],
            "application/vnd.google.colaboratory.intrinsic+json": {
              "type": "string"
            }
          },
          "metadata": {},
          "execution_count": 1
        }
      ]
    },
    {
      "cell_type": "markdown",
      "source": [
        "let's now build our outlier replacer transformer. This tranformer will replace ouliers in our dataset with indicated values"
      ],
      "metadata": {
        "id": "dZ-1CX9xyn-2"
      }
    },
    {
      "cell_type": "code",
      "source": [
        "import numpy as np\n",
        "from sklearn.base import BaseEstimator, TransformerMixin\n",
        "\n",
        "class OutlierReplacer(BaseEstimator, TransformerMixin):\n",
        "  def __init__(self, q_lower, q_upper):\n",
        "    self.q_lower = q_lower\n",
        "    self.q_upper = q_upper\n",
        "\n",
        "  def fit(self, X, y = None):\n",
        "    self.upper = np.percentile(X, self.q_upper, axis = 0)\n",
        "    self.lower = np.percentile(X, self.q_lower, axis = 0)\n",
        "    return self\n",
        "\n",
        "  def transfrom(self, X):\n",
        "    Xt = X.copy\n",
        "    ind_lower = X < self.lower\n",
        "    ind_upper = X > self.upper\n",
        "    for i in range(X.shape[-1]):\n",
        "      Xt[ind_lower[:, i]] = self.lower[i]\n",
        "      Xt[ind_upper[:, i]] = self.upper[i]\n",
        "      return Xt"
      ],
      "metadata": {
        "id": "Se4EHU34xuyp"
      },
      "execution_count": 2,
      "outputs": []
    },
    {
      "cell_type": "code",
      "execution_count": 2,
      "metadata": {
        "id": "gdwx9_eevsen"
      },
      "outputs": [],
      "source": [
        ""
      ]
    }
  ]
}